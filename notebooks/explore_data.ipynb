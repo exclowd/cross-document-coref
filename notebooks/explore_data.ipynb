{
 "cells": [
  {
   "cell_type": "code",
   "execution_count": 31,
   "metadata": {},
   "outputs": [],
   "source": [
    "import json\n",
    "import matplotlib.pyplot as plt\n",
    "import operator\n",
    "import os\n"
   ]
  },
  {
   "cell_type": "code",
   "execution_count": 32,
   "metadata": {},
   "outputs": [],
   "source": [
    "def get_mentions_of_cluster(dataset, cluster_id):\n",
    "    mentions = []\n",
    "    for mention in dataset:\n",
    "        if mention['coref_chain'] == cluster_id:\n",
    "            mentions.append(mention)\n",
    "\n",
    "    return mentions\n",
    "\n",
    "\n",
    "def get_all_chains(mentions):\n",
    "    clusters = {}\n",
    "    for mention_dic in mentions:\n",
    "        chain = mention_dic['coref_chain']\n",
    "        clusters[chain] = [] if chain not in clusters else clusters[chain]\n",
    "        clusters[chain].append(mention_dic)\n",
    "\n",
    "    return clusters\n",
    "\n",
    "\n",
    "def get_cluster_by_mention_num(clusters, num):\n",
    "    clusters_names = []\n",
    "    for cluster, doc_mention in clusters.items():\n",
    "        num_of_mentions = len(doc_mention)\n",
    "        if num_of_mentions == num:\n",
    "            clusters_names.append(cluster)\n",
    "\n",
    "    return clusters_names\n",
    "\n",
    "\n",
    "def get_gold_within_doc(mentions):\n",
    "    wd_cluster = {}\n",
    "    for mention in mentions:\n",
    "        chain = mention['coref_chain']\n",
    "        doc = mention['doc_id']\n",
    "        id_within_doc = chain + '_' + doc\n",
    "        wd_cluster[id_within_doc] = [] if id_within_doc not in wd_cluster else wd_cluster[id_within_doc]\n",
    "        wd_cluster[id_within_doc].append(mention)\n",
    "\n",
    "    return wd_cluster\n",
    "\n",
    "\n",
    "def get_metainfo(clusters):\n",
    "    dic = {}\n",
    "    for cluster, doc_mention in clusters.items():\n",
    "        num_of_mentions = len(doc_mention)\n",
    "        dic[num_of_mentions] = dic.get(num_of_mentions, 0) + 1\n",
    "\n",
    "    for length, num_of_clusters in sorted(dic.items()):\n",
    "        print(f\"There are {num_of_clusters} clusters with {length} mentions\")\n",
    "\n",
    "    number = dic.values()\n",
    "    labels = dic.keys()\n",
    "\n",
    "    get_pie_chart(number, labels)\n",
    "\n",
    "\n",
    "def extract_mention_text(cluster):\n",
    "    mentions = []\n",
    "    for mention in cluster:\n",
    "        mention.append(mention['MENTION_TEXT'])\n",
    "    return mentions\n",
    "\n",
    "\n",
    "def get_pie_chart(values, labels):\n",
    "    patches, texts = plt.pie(values, shadow=True, startangle=90)\n",
    "    plt.legend(patches, labels, loc=\"best\")\n",
    "    plt.axis('equal')\n",
    "    plt.show()\n",
    "\n",
    "\n",
    "def within_to_cross(within_doc_cluster):\n",
    "    cross_doc = {}\n",
    "    for within in within_doc_cluster:\n",
    "        name = within.split('_')[0]\n",
    "        if name != 'INTRA' and name != 'Singleton':\n",
    "            cross_doc[name] = [] if name not in cross_doc else cross_doc[name]\n",
    "            cross_doc[name].append(within)\n",
    "\n",
    "    return cross_doc\n",
    "\n",
    "\n",
    "def find_most_popular_word(clusters, within_doc_cluster):\n",
    "    words = {}\n",
    "    for cluster in clusters:\n",
    "        mentions = within_doc_cluster[cluster]\n",
    "        vocab = set()\n",
    "        for mention in mentions:\n",
    "            text = mention['MENTION_TEXT']\n",
    "            vocab.add(text)\n",
    "\n",
    "        for word in vocab:\n",
    "            words[word] = words.get(word, 0) + 1\n",
    "\n",
    "    most_word = max(words.items(), key=operator.itemgetter(1))\n",
    "    return most_word[0], most_word[1]/len(clusters)\n",
    "\n",
    "\n",
    "def get_prob(within_doc_cluster):\n",
    "    cross_doc = within_to_cross(within_doc_cluster)\n",
    "    length = 0\n",
    "    prob = 0\n",
    "    for cluster, within in cross_doc.items():\n",
    "        word, coverage = find_most_popular_word(within, within_doc_cluster)\n",
    "        length += len(within)\n",
    "        prob += coverage * len(within)\n",
    "\n",
    "    return prob / length\n"
   ]
  },
  {
   "cell_type": "code",
   "execution_count": 33,
   "metadata": {},
   "outputs": [],
   "source": [
    "OUTPUT_DIR = './data/ecbPlusOut/'\n"
   ]
  },
  {
   "cell_type": "code",
   "execution_count": 34,
   "metadata": {},
   "outputs": [
    {
     "name": "stdout",
     "output_type": "stream",
     "text": [
      "17294 entity mentions\n",
      "15003 event mentions\n"
     ]
    }
   ],
   "source": [
    "with open(os.path.join(OUTPUT_DIR + '/entity_gold_mentions.json'), 'r') as f:\n",
    "    entity_mentions = json.load(f)\n",
    "\n",
    "with open(os.path.join(OUTPUT_DIR + '/event_gold_mentions.json'), 'r') as f:\n",
    "    event_mentions = json.load(f)\n",
    "\n",
    "\n",
    "print(f'{len(entity_mentions)} entity mentions')\n",
    "print(f'{len(event_mentions)} event mentions')\n"
   ]
  },
  {
   "cell_type": "code",
   "execution_count": 35,
   "metadata": {},
   "outputs": [
    {
     "name": "stdout",
     "output_type": "stream",
     "text": [
      "Number of entity chains: 7657\n",
      "Number of event chains: 8877\n"
     ]
    }
   ],
   "source": [
    "event_cross_clusters = get_all_chains(event_mentions)\n",
    "event_within_clusters = get_gold_within_doc(event_mentions)\n",
    "entity_cross_clusters = get_all_chains(entity_mentions)\n",
    "entity_within_clusters = get_gold_within_doc(entity_mentions)\n",
    "print(f'Number of entity chains: {len(entity_cross_clusters)}')\n",
    "print(f'Number of event chains: {len(event_cross_clusters)}')"
   ]
  },
  {
   "cell_type": "code",
   "execution_count": 36,
   "metadata": {},
   "outputs": [
    {
     "name": "stdout",
     "output_type": "stream",
     "text": [
      "Number of entity singleton: 6429\n",
      "Number of event singleton: 7603\n"
     ]
    }
   ],
   "source": [
    "entity_singleton = sum([1 for m in entity_mentions if m[\"coref_chain\"].startswith('Singleton')])\n",
    "event_singleton = sum([1 for m in event_mentions if m[\"coref_chain\"].startswith('Singleton')])\n",
    "print(f'Number of entity singleton: {format(entity_singleton)}')\n",
    "print(f'Number of event singleton: {format(event_singleton)}')\n"
   ]
  },
  {
   "cell_type": "code",
   "execution_count": 37,
   "metadata": {},
   "outputs": [
    {
     "name": "stdout",
     "output_type": "stream",
     "text": [
      "Event Cross chains: 8877\n",
      "Event Within chains: 12612\n",
      "Entity Cross chains: 7657\n",
      "Entity Within chains: 12253\n"
     ]
    }
   ],
   "source": [
    "print(f'Event Cross chains: {len(event_cross_clusters)}')\n",
    "print(f'Event Within chains: {len(event_within_clusters)}')\n",
    "\n",
    "print(f'Entity Cross chains: {len(entity_cross_clusters)}')\n",
    "print(f'Entity Within chains: {len(entity_within_clusters)}')\n"
   ]
  },
  {
   "cell_type": "code",
   "execution_count": 38,
   "metadata": {},
   "outputs": [
    {
     "name": "stdout",
     "output_type": "stream",
     "text": [
      "There are 11121 clusters with 1 mentions\n",
      "There are 956 clusters with 2 mentions\n",
      "There are 344 clusters with 3 mentions\n",
      "There are 114 clusters with 4 mentions\n",
      "There are 41 clusters with 5 mentions\n",
      "There are 12 clusters with 6 mentions\n",
      "There are 10 clusters with 7 mentions\n",
      "There are 5 clusters with 8 mentions\n",
      "There are 2 clusters with 9 mentions\n",
      "There are 2 clusters with 10 mentions\n",
      "There are 3 clusters with 11 mentions\n",
      "There are 2 clusters with 12 mentions\n"
     ]
    },
    {
     "data": {
      "image/png": "[encoded data removed]",
      "text/plain": [
       "<Figure size 640x480 with 1 Axes>"
      ]
     },
     "metadata": {},
     "output_type": "display_data"
    }
   ],
   "source": [
    "get_metainfo(event_within_clusters)\n"
   ]
  },
  {
   "cell_type": "code",
   "execution_count": 39,
   "metadata": {},
   "outputs": [
    {
     "data": {
      "text/plain": [
       "['ACT16976684395747580_DOC15651941801839163',\n",
       " 'ACT16976828207985668_DOC15651941801839163',\n",
       " 'ACT16976684395747580_DOC15651942691066497',\n",
       " 'ACT17042077747908144_DOC15652008263279071',\n",
       " 'ACT17042077747908144_DOC15652008114776924',\n",
       " 'ACT16979225864150215_DOC15655038787313229',\n",
       " 'ACT16979267820424588_DOC15655038787313229',\n",
       " 'ACT16979013736492808_DOC15652009005943630',\n",
       " 'ACT17642853147528564_DOC15655331714634859',\n",
       " 'ACT17642853147528564_DOC15655331614039199',\n",
       " 'ACT28674653653685646_DOC15652435922795910',\n",
       " 'ACT17479136632367144_DOC15646216054143084',\n",
       " 'INTRA_25053_DOC15646216693198082_DOC15646216693198082',\n",
       " 'ACT17733054001869323_DOC15646259694118175',\n",
       " 'ACT17733054001869323_DOC15646258830821413',\n",
       " 'ACT17733054001869323_DOC15646259324410963',\n",
       " 'ACT17818055305739959_DOC15646259324410963',\n",
       " 'ACT17734003472118220_DOC15646259030729705',\n",
       " 'ACT16958629132224286_DOC15646086832712158',\n",
       " 'ACT16959854586023994_DOC15646086631246634',\n",
       " 'ACT16958170637145285_DOC15646086326139393',\n",
       " 'ACT27398642960429027_DOC15655180406113261',\n",
       " 'ACT17585266691851703_DOC15652084949729972',\n",
       " 'ACT17585255017659433_DOC15652084877938564',\n",
       " 'ACT17585266691851703_DOC15652085731670796',\n",
       " 'ACT18440577880137709_DOC15646399644856793',\n",
       " 'ACT18440577880137709_DOC15646399720486152',\n",
       " 'ACT18440577880137709_DOC15646399308889072',\n",
       " 'ACT18440577880137709_DOC15646399242089592',\n",
       " 'ACT16762501657378707_DOC15654957988275871',\n",
       " 'ACT18421355928785200_DOC15646379210591438',\n",
       " 'ACT18235541349528642_DOC15646313667450015',\n",
       " 'ACT18235797518957764_DOC15646313296820068',\n",
       " 'ACT18235541349528642_DOC15646312767082856',\n",
       " 'ACT18241002218927644_DOC15646333749946805',\n",
       " 'ACT18240959809845886_DOC15646333085434604',\n",
       " 'ACT18241866471384329_DOC15646333682583160',\n",
       " 'ACT18241002218927644_DOC15646333606587230',\n",
       " 'ACT18241002218927644_DOC15646332990933105',\n",
       " 'ACT16236402809085484_DOC15653231409679715',\n",
       " 'ACT15986681471021312_DOC15645929111211951',\n",
       " 'ACT15738091639707092_DOC15645930488569686',\n",
       " 'ACT15832182464413376_DOC15645930711617031',\n",
       " 'ACT16236402809085484_DOC15653231274938005',\n",
       " 'ACT17642048248481893_DOC15655294091037310',\n",
       " 'ACT17641449769632537_DOC15652171383848660',\n",
       " 'ACT16190399378875259_DOC15645975622360084',\n",
       " 'ACT16190399378875259_DOC15645974692513769',\n",
       " 'ACT16628483776494389_DOC15651678015057096',\n",
       " 'ACT16632565623246075_DOC15654894656889783',\n",
       " 'ACT16701957229969701_DOC15646028361961558',\n",
       " 'ACT16701957229969701_DOC15646029050754558',\n",
       " 'ACT16240564368961988_DOC15645952914227490',\n",
       " 'ACT16239369414744113_DOC15645952238994154',\n",
       " 'ACT16253426701180410_DOC15645952737872897',\n",
       " 'ACT16240564368961988_DOC15645953066016272',\n",
       " 'ACT16239369414744113_DOC15645952998286720',\n",
       " 'ACT17643276204095552_DOC15652586725035176',\n",
       " 'ACT17643297665414754_DOC15652586657680399',\n",
       " 'ACT17643276204095552_DOC15652586800713530',\n",
       " 'ACT17643276204095552_DOC15652587078520804',\n",
       " 'ACT17643276204095552_DOC15652586203984769',\n",
       " 'ACT17643276204095552_DOC15652586271263191',\n",
       " 'ACT17643276204095552_DOC15652586598765201',\n",
       " 'ACT17643276204095552_DOC15652586986205515',\n",
       " 'ACT17477395877825371_DOC15646198398170501',\n",
       " 'ACT16194654011907361_DOC15646007072712125',\n",
       " 'ACT16194654011907361_DOC15646006728635231',\n",
       " 'ACT16194654011907361_DOC15646006878351574',\n",
       " 'ACT16194654011907361_DOC15646006811158966',\n",
       " 'ACT16194654011907361_DOC15646007131873008',\n",
       " 'ACT17764871460776174_DOC15652710120613684',\n",
       " 'ACT17765459464845898_DOC15655520571086225',\n",
       " 'ACT17050876360621871_DOC15655097092514437',\n",
       " 'ACT17634298974206374_DOC15646235799925464',\n",
       " 'ACT17634335402702692_DOC15646236194358187',\n",
       " 'ACT17634298974206374_DOC15646235892223582',\n",
       " 'ACT17764126188523329_DOC15652686787500426',\n",
       " 'ACT17764126188523329_DOC15652686278819060',\n",
       " 'ACT17764126188523329_DOC15652686211205875',\n",
       " 'ACT16709489111488609_DOC15646049302363297',\n",
       " 'ACT16709489111488609_DOC15646049117906968',\n",
       " 'ACT17774320253942795_DOC15663476450646678',\n",
       " 'ACT17773499018825369_DOC15652775894468964',\n",
       " 'ACT17773499018825369_DOC15652776250765414',\n",
       " 'ACT17740950239373139_DOC15652628249397600',\n",
       " 'ACT17740950239373139_DOC15652627720472099',\n",
       " 'ACT17740950239373139_DOC15652628114644015',\n",
       " 'ACT17740950239373139_DOC15652627819826863',\n",
       " 'ACT17822303993286740_DOC15646277681301050',\n",
       " 'ACT17821472137518203_DOC15646278023624700',\n",
       " 'ACT17821472137518203_DOC15646277841302609',\n",
       " 'ACT17821815048905207_DOC15646277841302609',\n",
       " 'ACT17821472137518203_DOC15646278194040992',\n",
       " 'ACT18223179370767574_DOC15652846469678074',\n",
       " 'ACT18225191225039905_DOC15655698924180057',\n",
       " 'ACT18223179370767574_DOC15652846611958724',\n",
       " 'ACT16869980928391781_DOC15646066694077113',\n",
       " 'ACT16869980928391781_DOC15646066887589095',\n",
       " 'ACT16869980928391781_DOC15646067097818498',\n",
       " 'ACT16870074166913094_DOC15646067097818498',\n",
       " 'ACT18316597331822467_DOC15646354149180380',\n",
       " 'ACT18006382662795369_DOC15646295950408378',\n",
       " 'ACT18007234386480781_DOC15646295562000374',\n",
       " 'ACT17239767913146830_DOC15652051965695763',\n",
       " 'ACT17239767913146830_DOC15652052501320388',\n",
       " 'ACT17239767913146830_DOC15652052215110407',\n",
       " 'ACT17214346135531910_DOC15646107803773221',\n",
       " 'ACT17214300832263768_DOC15646107223937621',\n",
       " 'ACT17214300832263768_DOC15646107703075254',\n",
       " 'ACT17214346135531910_DOC15646107349925197',\n",
       " 'ACT18222908848679496_DOC15655640772550568',\n",
       " 'ACT18222897859726438_DOC15655640452580403',\n",
       " 'ACT18222908848679496_DOC15655640452580403']"
      ]
     },
     "execution_count": 39,
     "metadata": {},
     "output_type": "execute_result"
    }
   ],
   "source": [
    "get_cluster_by_mention_num(event_within_clusters, 4)\n"
   ]
  },
  {
   "cell_type": "code",
   "execution_count": 40,
   "metadata": {},
   "outputs": [
    {
     "data": {
      "text/plain": [
       "881"
      ]
     },
     "execution_count": 40,
     "metadata": {},
     "output_type": "execute_result"
    }
   ],
   "source": [
    "cross_keys = set()\n",
    "for cluster, mentions in event_cross_clusters.items():\n",
    "    doc = mentions[0]['doc_id']\n",
    "    for m in mentions[1:]:\n",
    "        if m['doc_id'] != doc:\n",
    "            cross_keys.add(m['coref_chain'])\n",
    "len(cross_keys)\n"
   ]
  },
  {
   "cell_type": "code",
   "execution_count": null,
   "metadata": {},
   "outputs": [],
   "source": []
  }
 ],
 "metadata": {
  "kernelspec": {
   "display_name": "Python 3",
   "language": "python",
   "name": "python3"
  },
  "language_info": {
   "codemirror_mode": {
    "name": "ipython",
    "version": 3
   },
   "file_extension": ".py",
   "mimetype": "text/x-python",
   "name": "python",
   "nbconvert_exporter": "python",
   "pygments_lexer": "ipython3",
   "version": "3.8.16"
  }
 },
 "nbformat": 4,
 "nbformat_minor": 2
}
